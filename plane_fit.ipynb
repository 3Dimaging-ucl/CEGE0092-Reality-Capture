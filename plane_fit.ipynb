{
 "cells": [
  {
   "cell_type": "markdown",
   "metadata": {},
   "source": [
    "# Fit a plane to a point cloud \n",
    "\n",
    "We use the implicit equation ax + by + cz + d = 0 to describe a plane free of singularities. We further reduce this by removing the mean of the observations x, y and z. This only leaves the unknown aparameters a, b and c. The procedure is layed out step-by-step:\n",
    "* load the point cloud from a text file\n",
    "* calculate and remove the mean for every coordinate\n",
    "* create the scatter covariance matrix\n",
    "* solve the system using the Eigenvalue method"
   ]
  },
  {
   "cell_type": "markdown",
   "metadata": {},
   "source": [
    "We import the numeric library 'numpy'"
   ]
  },
  {
   "cell_type": "code",
   "execution_count": null,
   "metadata": {},
   "outputs": [],
   "source": [
    "import numpy as np"
   ]
  },
  {
   "cell_type": "markdown",
   "metadata": {},
   "source": [
    "Load the point cloud form a text file into matrix A. What is the shape of the matrix (no. of columns, no. of rows)?"
   ]
  },
  {
   "cell_type": "code",
   "execution_count": null,
   "metadata": {},
   "outputs": [],
   "source": [
    "A = np.loadtxt('wall.txt')"
   ]
  },
  {
   "cell_type": "markdown",
   "metadata": {},
   "source": [
    "Compute the mean value along each column (axis=0) and remove the mean from the data."
   ]
  },
  {
   "cell_type": "code",
   "execution_count": null,
   "metadata": {},
   "outputs": [],
   "source": [
    "m = np.mean(A, axis=0)\n",
    "B = A - m"
   ]
  },
  {
   "cell_type": "markdown",
   "metadata": {},
   "source": [
    "Compute the so called scatter covariance matrix by multiplyig the transpose of B with itself"
   ]
  },
  {
   "cell_type": "code",
   "execution_count": null,
   "metadata": {},
   "outputs": [],
   "source": [
    "S = np.matmul(B.T, B)"
   ]
  },
  {
   "cell_type": "markdown",
   "metadata": {},
   "source": [
    "Compute the Eigenvalues and Eigenvectors of S. The vector w conatins the Eigenvalues. Matrix v contains the Eigenvetors in its columns. How many Eigenalues do you expect? Which of the Eigenvectors holds the solution?"
   ]
  },
  {
   "cell_type": "code",
   "execution_count": null,
   "metadata": {},
   "outputs": [],
   "source": [
    "w, v = np.linalg.eig(S)\n",
    "w"
   ]
  },
  {
   "cell_type": "markdown",
   "metadata": {},
   "source": [
    "The solution vector is also the normal vector n of the plane."
   ]
  },
  {
   "cell_type": "code",
   "execution_count": null,
   "metadata": {},
   "outputs": [],
   "source": [
    "n = v[:,1]"
   ]
  },
  {
   "cell_type": "markdown",
   "metadata": {},
   "source": [
    "We can test the solution by computing the distance of each point to the estimated plane. What value do you expect for the mean over all distances?"
   ]
  },
  {
   "cell_type": "code",
   "execution_count": null,
   "metadata": {},
   "outputs": [],
   "source": [
    "d=np.matmul(B,n)\n",
    "np.mean(d)"
   ]
  },
  {
   "cell_type": "markdown",
   "metadata": {},
   "source": [
    "Remember matrix B has the points with the mean removed! Thus the plane goes through the origin [0, 0, 0]. What is the distance to the origin of the plane that goes through the original points in matrix A (before removing the mean)? We already know one point on that plane. "
   ]
  },
  {
   "cell_type": "code",
   "execution_count": null,
   "metadata": {},
   "outputs": [],
   "source": [
    "d_=np.matmul(m, n)\n",
    "d_"
   ]
  },
  {
   "cell_type": "markdown",
   "metadata": {},
   "source": [
    "### Task\n",
    "* introduce an outlier into the point cloud. Manipulate the first point in the point cloud. Alter the Z cooridante to a very large value. \n",
    "* repeat the estimation process and compare the resulting normal vector."
   ]
  },
  {
   "cell_type": "markdown",
   "metadata": {},
   "source": [
    "### Visualize\n",
    "* use PyVista for interactive visualization.\n",
    "* install the packages and dependencies via pip. You might need administrator rights to install these.\n",
    "* use the deviation form the plane as a scalar to colour the cloud"
   ]
  },
  {
   "cell_type": "code",
   "execution_count": null,
   "metadata": {},
   "outputs": [],
   "source": [
    "!pip install pyvista itkwidgets"
   ]
  },
  {
   "cell_type": "code",
   "execution_count": null,
   "metadata": {
    "scrolled": true
   },
   "outputs": [],
   "source": [
    "import pyvista as pv\n",
    "from pyvista import examples\n",
    "\n",
    "#create a PyVista mesh object from the point cloud\n",
    "point_cloud = pv.PolyData(B)\n",
    "\n",
    "# Plot using the ITKplotter\n",
    "pl = pv.PlotterITK()\n",
    "#pl.add_mesh(mesh, scalars=z, smooth_shading=True)\n",
    "#pl.add_mesh(point_cloud, scalars=d.astype(int))\n",
    "pl.add_points(point_cloud,color='black')\n",
    "\n",
    "pl.show(True)"
   ]
  }
 ],
 "metadata": {
  "kernelspec": {
   "display_name": "Python 3",
   "language": "python",
   "name": "python3"
  },
  "language_info": {
   "codemirror_mode": {
    "name": "ipython",
    "version": 3
   },
   "file_extension": ".py",
   "mimetype": "text/x-python",
   "name": "python",
   "nbconvert_exporter": "python",
   "pygments_lexer": "ipython3",
   "version": "3.7.1"
  }
 },
 "nbformat": 4,
 "nbformat_minor": 2
}
