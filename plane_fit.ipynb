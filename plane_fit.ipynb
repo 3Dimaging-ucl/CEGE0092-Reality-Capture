{
  "cells": [
    {
      "metadata": {},
      "cell_type": "markdown",
      "source": "# Fit a plane to a point cloud using implicit equation"
    },
    {
      "metadata": {},
      "cell_type": "markdown",
      "source": "We import the numeric library 'numpy'"
    },
    {
      "metadata": {
        "trusted": true
      },
      "cell_type": "code",
      "source": "import numpy as np",
      "execution_count": null,
      "outputs": []
    },
    {
      "metadata": {},
      "cell_type": "markdown",
      "source": "Load the point cloud form a text file into matrix A. What is the shape of the matrix (no. of columns, no. of rows)?"
    },
    {
      "metadata": {
        "trusted": true
      },
      "cell_type": "code",
      "source": "A = np.loadtxt('wall.txt')",
      "execution_count": null,
      "outputs": []
    },
    {
      "metadata": {},
      "cell_type": "markdown",
      "source": "Compute the mean value along each column (axis=0) and remove the mean from the data."
    },
    {
      "metadata": {
        "trusted": true
      },
      "cell_type": "code",
      "source": "m = np.mean(A, axis=0)\nB = A - m",
      "execution_count": null,
      "outputs": []
    },
    {
      "metadata": {},
      "cell_type": "markdown",
      "source": "Compute the so called scatter covariance matrix by multiplyig the transpose of B with itself"
    },
    {
      "metadata": {
        "trusted": true
      },
      "cell_type": "code",
      "source": "S = np.matmul(B.T, B)",
      "execution_count": null,
      "outputs": []
    },
    {
      "metadata": {},
      "cell_type": "markdown",
      "source": "Compute the Eigenvalues and Eigenvectors of S. The vector w conatins the Eigenvalues. Matrix v contains the Eigenvetors in its columns. How many Eigenalues do you expect? Which of the Eigenvectors holds the solution?"
    },
    {
      "metadata": {
        "trusted": true
      },
      "cell_type": "code",
      "source": "w, v = np.linalg.eig(S)\nw",
      "execution_count": null,
      "outputs": []
    },
    {
      "metadata": {},
      "cell_type": "markdown",
      "source": "The solution vector is also the normal vector n of the plane."
    },
    {
      "metadata": {
        "trusted": true
      },
      "cell_type": "code",
      "source": "n = v[:,?]",
      "execution_count": null,
      "outputs": []
    },
    {
      "metadata": {},
      "cell_type": "markdown",
      "source": "We can test the solution by computing the distance of each point to the estimated plane. What value do you expect for the mean over all distances?"
    },
    {
      "metadata": {
        "trusted": true
      },
      "cell_type": "code",
      "source": "d=np.matmul(B,n)\nnp.mean(d)",
      "execution_count": null,
      "outputs": []
    },
    {
      "metadata": {},
      "cell_type": "markdown",
      "source": "Remember matrix B has the points with the mean removed! Thus the plane goes through the origin [0, 0, 0]. What is the distance to the origin of the plane that goes through the original points in matrix A (before removing the mean)? We already know one point on that plane. "
    },
    {
      "metadata": {
        "trusted": true
      },
      "cell_type": "code",
      "source": "d=np.matmul(m, n)\nd",
      "execution_count": null,
      "outputs": []
    },
    {
      "metadata": {},
      "cell_type": "markdown",
      "source": "Now we introduce an outlier into the point cloud. Manipulate the first point in the point cloud. Alter the Z cooridante to a very large value. Repeat the estimation process and compare the resulting normal vector."
    }
  ],
  "metadata": {
    "kernelspec": {
      "name": "python3",
      "display_name": "Python 3",
      "language": "python"
    }
  },
  "nbformat": 4,
  "nbformat_minor": 2
}